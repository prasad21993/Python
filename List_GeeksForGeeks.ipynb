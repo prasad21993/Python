{
 "cells": [
  {
   "cell_type": "markdown",
   "metadata": {},
   "source": [
    "# Python program to interchange first and last elements in a list"
   ]
  },
  {
   "cell_type": "code",
   "execution_count": 1,
   "metadata": {},
   "outputs": [
    {
     "name": "stdout",
     "output_type": "stream",
     "text": [
      "Enter the number 12345\n",
      "['5', '2', '3', '4', '1']\n"
     ]
    }
   ],
   "source": [
    "list1 = list(input(\"Enter the number \"))\n",
    "list2 = [list1[-1]]+list1[1:-1]+[list1[0]]\n",
    "print(list2)"
   ]
  },
  {
   "cell_type": "code",
   "execution_count": 2,
   "metadata": {},
   "outputs": [
    {
     "name": "stdout",
     "output_type": "stream",
     "text": [
      "Enter the number abcde\n",
      "['e', 'b', 'c', 'd', 'a']\n"
     ]
    }
   ],
   "source": [
    "list1 = list(input(\"Enter the number \"))\n",
    "list1[0],list1[-1]=list1[-1],list1[0]\n",
    "print(list1)"
   ]
  },
  {
   "cell_type": "code",
   "execution_count": 3,
   "metadata": {},
   "outputs": [
    {
     "name": "stdout",
     "output_type": "stream",
     "text": [
      "Enter the numbers wxyz\n",
      "['w', 'x', 'y', 'z']\n",
      "['z', 'x', 'y', 'z']\n"
     ]
    }
   ],
   "source": [
    "# #with loop\n",
    "# list1 = list(input(\"Enter the numbers \"))\n",
    "# print(list1)\n",
    "# for i in range(0,len(list1)):\n",
    "#     if(i==0):\n",
    "#         list1[i]=list1[len(list1)-1]\n",
    "# #    elif(i==len(list1)):\n",
    "# #        list1[len(list1)-1]=list1[0]\n",
    "# print(list1)"
   ]
  },
  {
   "cell_type": "markdown",
   "metadata": {},
   "source": [
    "# Python program to swap two elements in a list"
   ]
  },
  {
   "cell_type": "code",
   "execution_count": 4,
   "metadata": {},
   "outputs": [
    {
     "name": "stdout",
     "output_type": "stream",
     "text": [
      "Enter the numbers 12345\n",
      "['1', '2', '3', '4', '5']\n",
      "Enter the 1st pos 2\n",
      "Enter the 2nd pos 4\n"
     ]
    },
    {
     "data": {
      "text/plain": [
       "['1', '4', '3', '2', '5']"
      ]
     },
     "execution_count": 4,
     "metadata": {},
     "output_type": "execute_result"
    }
   ],
   "source": [
    "list2 = list(input(\"Enter the numbers \"))\n",
    "print(list2)\n",
    "pos1 = int(input(\"Enter the 1st pos \"))\n",
    "pos2 = int(input(\"Enter the 2nd pos \"))\n",
    "\n",
    "def swap(list2,pos1,pos2):\n",
    "    list2[pos1],list2[pos2] = list2[pos2],list2[pos1]\n",
    "    return list2\n",
    "\n",
    "swap(list2,pos1-1,pos2-1)"
   ]
  },
  {
   "cell_type": "markdown",
   "metadata": {},
   "source": [
    "# Python program to remove Nth of the given List"
   ]
  },
  {
   "cell_type": "code",
   "execution_count": 11,
   "metadata": {},
   "outputs": [
    {
     "name": "stdout",
     "output_type": "stream",
     "text": [
      "Enter the List 1 2 3 4 5\n",
      "['1', '2', '3', '4', '5']\n",
      "Enter the position 2\n",
      "['1', '3', '4', '5']\n"
     ]
    }
   ],
   "source": [
    "list2 = input(\"Enter the List \")\n",
    "#list22 = list(list2)\n",
    "list23 = list2.split(\" \")\n",
    "print(list23)\n",
    "nth =int(input(\"Enter the position \"))\n",
    "list23.pop(nth-1)\n",
    "#list23 = \"\".join(list23)\n",
    "print(list23)"
   ]
  },
  {
   "cell_type": "markdown",
   "metadata": {},
   "source": [
    "# Python | Ways to check if element exists in list"
   ]
  },
  {
   "cell_type": "code",
   "execution_count": 13,
   "metadata": {},
   "outputs": [
    {
     "name": "stdout",
     "output_type": "stream",
     "text": [
      "Enter the numbers 12345\n",
      "['1', '2', '3', '4', '5']\n",
      "Enter the number to search 6\n",
      "Not found \n"
     ]
    }
   ],
   "source": [
    "list3 = list(input(\"Enter the numbers \"))\n",
    "print(list3)\n",
    "tochk = input(\"Enter the number to search \")\n",
    "if(tochk in list3):\n",
    "    print(\"Number found \")\n",
    "else:\n",
    "    print(\"Not found \")\n"
   ]
  },
  {
   "cell_type": "markdown",
   "metadata": {},
   "source": [
    "# Python | Reversing a List\n"
   ]
  },
  {
   "cell_type": "code",
   "execution_count": 14,
   "metadata": {},
   "outputs": [
    {
     "name": "stdout",
     "output_type": "stream",
     "text": [
      "Enter the numbers 2345\n",
      "['2', '3', '4', '5']\n",
      "Revers list is  ['5', '4', '3', '2']\n"
     ]
    }
   ],
   "source": [
    "list4 = list(input(\"Enter the numbers \"))\n",
    "print(list4)\n",
    "print(\"Revers list is \",list4[::-1])"
   ]
  },
  {
   "cell_type": "code",
   "execution_count": 15,
   "metadata": {},
   "outputs": [
    {
     "name": "stdout",
     "output_type": "stream",
     "text": [
      "Enter the numbers 12345\n",
      "['1', '2', '3', '4', '5']\n",
      "Revers list is  ['5', '4', '3', '2', '1']\n"
     ]
    }
   ],
   "source": [
    "list4 = list(input(\"Enter the numbers \"))\n",
    "print(list4)\n",
    "list4.reverse()\n",
    "print(\"Revers list is \",list4)"
   ]
  },
  {
   "cell_type": "markdown",
   "metadata": {},
   "source": [
    "# Python | Count occurrences of an element in a list    "
   ]
  },
  {
   "cell_type": "code",
   "execution_count": 16,
   "metadata": {},
   "outputs": [
    {
     "name": "stdout",
     "output_type": "stream",
     "text": [
      "Enter the numbers 12332111\n",
      "['1', '2', '3', '3', '2', '1', '1', '1']\n",
      "Which numbers occurrence you want to check 1\n",
      "Count  4\n"
     ]
    }
   ],
   "source": [
    "list5 = list(input(\"Enter the numbers \"))\n",
    "print(list5)\n",
    "tochk = input(\"Which numbers occurrence you want to check \")\n",
    "count = 0\n",
    "\n",
    "for i in list5:\n",
    "    if(i == tochk):\n",
    "         count += 1\n",
    "            \n",
    "print(\"Count \",count)"
   ]
  },
  {
   "cell_type": "markdown",
   "metadata": {},
   "source": [
    "# Python program to find sum of elements in list"
   ]
  },
  {
   "cell_type": "code",
   "execution_count": 17,
   "metadata": {},
   "outputs": [
    {
     "name": "stdout",
     "output_type": "stream",
     "text": [
      "[1, 2, 3, 4, 5]\n",
      "15\n"
     ]
    }
   ],
   "source": [
    "#list6 = list(input(\"Enter the numbers \"))\n",
    "list6 = [1,2,3,4,5]\n",
    "print(list6)\n",
    "n = 0\n",
    "for i in range(0,len(list6)):\n",
    "    n += list6[i]\n",
    "print(n)"
   ]
  },
  {
   "cell_type": "code",
   "execution_count": 18,
   "metadata": {},
   "outputs": [
    {
     "name": "stdout",
     "output_type": "stream",
     "text": [
      "Enter the number 5\n",
      "Enter the element 2\n",
      "Enter the element 2\n",
      "Enter the element 3\n",
      "Enter the element 2\n",
      "Enter the element 1\n",
      "[2, 2, 3, 2, 1]\n",
      "10\n"
     ]
    }
   ],
   "source": [
    "lis= []\n",
    "num = int(input(\"Enter the number \"))\n",
    "for i in range(0,num):\n",
    "    number = int(input(\"Enter the element \"))\n",
    "    lis.append(number)\n",
    "print(lis)\n",
    "\n",
    "x = 0\n",
    "for i in lis:\n",
    "    x += i\n",
    "print(x)"
   ]
  },
  {
   "cell_type": "markdown",
   "metadata": {},
   "source": [
    "# Python program to find smallest number in a list"
   ]
  },
  {
   "cell_type": "code",
   "execution_count": 19,
   "metadata": {},
   "outputs": [
    {
     "name": "stdout",
     "output_type": "stream",
     "text": [
      "smallest number in the list is  1\n"
     ]
    }
   ],
   "source": [
    "list1 = [5,7,9,1,6,8]\n",
    "list1.sort()\n",
    "list1\n",
    "print(\"smallest number in the list is \",list1[0])"
   ]
  },
  {
   "cell_type": "code",
   "execution_count": 20,
   "metadata": {},
   "outputs": [
    {
     "name": "stdout",
     "output_type": "stream",
     "text": [
      "How many numbers you want to add in the list?? 5\n",
      "Enter the element 2\n",
      "Enter the element 8\n",
      "Enter the element 9\n",
      "Enter the element 1\n",
      "Enter the element 5\n",
      "[2, 8, 9, 1, 5]\n",
      "smallest number in the list is  1\n"
     ]
    }
   ],
   "source": [
    "list1= []\n",
    "num = int(input(\"How many numbers you want to add in the list?? \"))\n",
    "for x in range(0,num):\n",
    "    elm = int(input(\"Enter the element \"))\n",
    "    list1.append(elm)\n",
    "print(list1)\n",
    "list1.sort()\n",
    "print(\"smallest number in the list is \",list1[0])"
   ]
  },
  {
   "cell_type": "markdown",
   "metadata": {},
   "source": [
    "# Python program to find largest number in a list"
   ]
  },
  {
   "cell_type": "code",
   "execution_count": 21,
   "metadata": {},
   "outputs": [
    {
     "name": "stdout",
     "output_type": "stream",
     "text": [
      "Largest number in the list is  9\n"
     ]
    }
   ],
   "source": [
    "list1 = [5,7,9,1,6,8]\n",
    "list1.sort()\n",
    "list1\n",
    "print(\"Largest number in the list is \",list1[-1])"
   ]
  },
  {
   "cell_type": "code",
   "execution_count": 22,
   "metadata": {},
   "outputs": [
    {
     "name": "stdout",
     "output_type": "stream",
     "text": [
      "How many numbers you want to add in the list?? 5\n",
      "Enter the element 1\n",
      "Enter the element 2\n",
      "Enter the element 2\n",
      "Enter the element 2\n",
      "Enter the element 5\n",
      "[1, 2, 2, 2, 5]\n",
      "Largest number in the list is  5\n"
     ]
    }
   ],
   "source": [
    "list1= []\n",
    "num = int(input(\"How many numbers you want to add in the list?? \"))\n",
    "for x in range(0,num):\n",
    "    elm = int(input(\"Enter the element \"))\n",
    "    list1.append(elm)\n",
    "print(list1)\n",
    "list1.sort()\n",
    "print(\"Largest number in the list is \",list1[-1])"
   ]
  },
  {
   "cell_type": "markdown",
   "metadata": {},
   "source": [
    "# Python program to find second largest number in a list"
   ]
  },
  {
   "cell_type": "code",
   "execution_count": 23,
   "metadata": {},
   "outputs": [
    {
     "name": "stdout",
     "output_type": "stream",
     "text": [
      "2nd Largest number in the list is  8\n"
     ]
    }
   ],
   "source": [
    "list1 = [5,7,9,1,6,8]\n",
    "list1.sort()\n",
    "list1\n",
    "print(\"2nd Largest number in the list is \",list1[-2])"
   ]
  },
  {
   "cell_type": "code",
   "execution_count": 25,
   "metadata": {},
   "outputs": [
    {
     "name": "stdout",
     "output_type": "stream",
     "text": [
      "How many numbers you want to add in the list?? 5\n",
      "Enter the element 9\n",
      "Enter the element 5\n",
      "Enter the element 4\n",
      "Enter the element 3\n",
      "Enter the element 8\n",
      "[9, 5, 4, 3, 8]\n",
      "Largest number in the list is  8\n"
     ]
    }
   ],
   "source": [
    "list1= []\n",
    "num = int(input(\"How many numbers you want to add in the list?? \"))\n",
    "for x in range(0,num):\n",
    "    elm = int(input(\"Enter the element \"))\n",
    "    list1.append(elm)\n",
    "print(list1)\n",
    "list1.sort()\n",
    "print(\"Largest number in the list is \",list1[-2])"
   ]
  },
  {
   "cell_type": "markdown",
   "metadata": {},
   "source": [
    "# Python program to find N largest elements from a list"
   ]
  },
  {
   "cell_type": "code",
   "execution_count": 26,
   "metadata": {},
   "outputs": [
    {
     "name": "stdout",
     "output_type": "stream",
     "text": [
      "Enter the N elements 3\n",
      "9 8 7 "
     ]
    }
   ],
   "source": [
    "list1 = [9,5,8,7,4,3]\n",
    "N = int(input(\"Enter the N elements \"))\n",
    "list1.sort()\n",
    "lenth = len(list1)\n",
    "\n",
    "for i in range(1,N+1):\n",
    "    print(list1[lenth-1],end= \" \")\n",
    "    lenth -= 1\n"
   ]
  },
  {
   "cell_type": "code",
   "execution_count": 27,
   "metadata": {},
   "outputs": [
    {
     "name": "stdout",
     "output_type": "stream",
     "text": [
      "Enter the numbers you want to add in the list 3\n",
      "Enter the element 5\n",
      "Enter the element 7\n",
      "Enter the element 9\n",
      "[5, 7, 9]\n",
      "Enter the N elements 2\n",
      "9 7 "
     ]
    }
   ],
   "source": [
    "list2 = []\n",
    "no = int(input(\"Enter the numbers you want to add in the list \"))\n",
    "for i in range(0,no):\n",
    "    num = int(input(\"Enter the element \"))\n",
    "    list2.append(num)\n",
    "print(list2)\n",
    "\n",
    "list2.sort()\n",
    "N = int(input(\"Enter the N elements \"))\n",
    "for j in range(1,N+1):\n",
    "    print(list2[no-1],end= \" \")\n",
    "    no -= 1\n",
    "    "
   ]
  },
  {
   "cell_type": "markdown",
   "metadata": {},
   "source": [
    "# Python program to print even numbers in a list"
   ]
  },
  {
   "cell_type": "code",
   "execution_count": 28,
   "metadata": {},
   "outputs": [
    {
     "name": "stdout",
     "output_type": "stream",
     "text": [
      "2 4 6 8 10 "
     ]
    }
   ],
   "source": [
    "list3 = [1,2,3,4,5,6,7,8,9,10]\n",
    "for i in list3:\n",
    "    if(i%2==0):\n",
    "        print(i,end=' ')\n"
   ]
  },
  {
   "cell_type": "code",
   "execution_count": 29,
   "metadata": {},
   "outputs": [
    {
     "name": "stdout",
     "output_type": "stream",
     "text": [
      "Enter the numbers you want to add in the list 3\n",
      "Enter the element 1\n",
      "Enter the element 5\n",
      "Enter the element 8\n",
      "[1, 5, 8]\n",
      "8 "
     ]
    }
   ],
   "source": [
    "list3 = []\n",
    "no = int(input(\"Enter the numbers you want to add in the list \"))\n",
    "for i in range(0,no):\n",
    "    num = int(input(\"Enter the element \"))\n",
    "    list3.append(num)\n",
    "\n",
    "print(list3)\n",
    "for j in list3:\n",
    "    if(j%2==0):\n",
    "        print(j,end=' ')"
   ]
  },
  {
   "cell_type": "markdown",
   "metadata": {},
   "source": [
    "# Python program to print odd numbers in a List"
   ]
  },
  {
   "cell_type": "code",
   "execution_count": 30,
   "metadata": {},
   "outputs": [
    {
     "name": "stdout",
     "output_type": "stream",
     "text": [
      "1 3 5 7 9 "
     ]
    }
   ],
   "source": [
    "list3 = [1,2,3,4,5,6,7,8,9,10]\n",
    "for i in list3:\n",
    "    if(i%2==1):\n",
    "        print(i,end=' ')"
   ]
  },
  {
   "cell_type": "code",
   "execution_count": 31,
   "metadata": {},
   "outputs": [
    {
     "name": "stdout",
     "output_type": "stream",
     "text": [
      "Enter the numbers you want to add in the list 5\n",
      "Enter the element 8\n",
      "Enter the element 4\n",
      "Enter the element 5\n",
      "Enter the element 2\n",
      "Enter the element 1\n",
      "[8, 4, 5, 2, 1]\n",
      "5 1 "
     ]
    }
   ],
   "source": [
    "list3 = []\n",
    "no = int(input(\"Enter the numbers you want to add in the list \"))\n",
    "for i in range(0,no):\n",
    "    num = int(input(\"Enter the element \"))\n",
    "    list3.append(num)\n",
    "\n",
    "print(list3)\n",
    "for j in list3:\n",
    "    if(j%2==1):\n",
    "        print(j,end=' ')"
   ]
  },
  {
   "cell_type": "markdown",
   "metadata": {},
   "source": [
    "# Python program to print all even numbers in a range\n"
   ]
  },
  {
   "cell_type": "code",
   "execution_count": 32,
   "metadata": {},
   "outputs": [
    {
     "name": "stdout",
     "output_type": "stream",
     "text": [
      "Start range 1\n",
      "till 5\n",
      "2 4 "
     ]
    }
   ],
   "source": [
    "start = int(input(\"Start range \"))\n",
    "end = int(input(\"till \"))\n",
    "for i in range(start,end+1):\n",
    "    if(i%2==0):\n",
    "        print(i,end = ' ')"
   ]
  },
  {
   "cell_type": "markdown",
   "metadata": {},
   "source": [
    "# Python program to count Even and Odd numbers in a List"
   ]
  },
  {
   "cell_type": "code",
   "execution_count": 33,
   "metadata": {},
   "outputs": [
    {
     "name": "stdout",
     "output_type": "stream",
     "text": [
      "even number is 3 and odd number is 3\n"
     ]
    }
   ],
   "source": [
    "countEve = 0\n",
    "countOdd = 0\n",
    "list4 = [1,2,3,4,5,6]\n",
    "for i in list4:\n",
    "    if(i%2==0):\n",
    "        countEve += 1\n",
    "    else:\n",
    "        countOdd +=1\n",
    "print(\"even number is {} and odd number is {}\".format(countEve,countOdd))"
   ]
  },
  {
   "cell_type": "code",
   "execution_count": 34,
   "metadata": {},
   "outputs": [
    {
     "name": "stdout",
     "output_type": "stream",
     "text": [
      "how many element you want to add in the list 5\n",
      "Enter the element 1 7\n",
      "Enter the element 2 2\n",
      "Enter the element 3 8\n",
      "Enter the element 4 1\n",
      "Enter the element 5 22\n",
      "[7, 2, 8, 1, 22]\n",
      "even number is 3 and odd number is 2\n"
     ]
    }
   ],
   "source": [
    "countEve = 0\n",
    "countOdd = 0\n",
    "no = int(input(\"how many element you want to add in the list \"))\n",
    "list1 = []\n",
    "for i in range(1,no+1):\n",
    "    num = int(input(\"Enter the element {} \".format(i)))\n",
    "    list1.append(num)\n",
    "print(list1)\n",
    "for j in list1:\n",
    "    if(j%2==0):\n",
    "        countEve += 1\n",
    "    else:\n",
    "        countOdd += 1\n",
    "print(\"even number is {} and odd number is {}\".format(countEve,countOdd))"
   ]
  },
  {
   "cell_type": "markdown",
   "metadata": {},
   "source": [
    "# Python program to print positive numbers in a list"
   ]
  },
  {
   "cell_type": "code",
   "execution_count": 35,
   "metadata": {},
   "outputs": [
    {
     "name": "stdout",
     "output_type": "stream",
     "text": [
      "1 2 6 7 "
     ]
    }
   ],
   "source": [
    "list3 = [1,2,-5,6,7,-8]\n",
    "for i in list3:\n",
    "    if(i>0):\n",
    "        print(i,end= ' ')"
   ]
  },
  {
   "cell_type": "markdown",
   "metadata": {},
   "source": [
    "# Python program to print negative numbers in a list"
   ]
  },
  {
   "cell_type": "code",
   "execution_count": 36,
   "metadata": {},
   "outputs": [
    {
     "name": "stdout",
     "output_type": "stream",
     "text": [
      "-5 -8 "
     ]
    }
   ],
   "source": [
    "list3 = [1,2,-5,6,7,-8]\n",
    "for i in list3:\n",
    "    if(i<0):\n",
    "        print(i,end= ' ')"
   ]
  },
  {
   "cell_type": "markdown",
   "metadata": {},
   "source": [
    "# Python program to print all positive numbers in a range"
   ]
  },
  {
   "cell_type": "code",
   "execution_count": 37,
   "metadata": {},
   "outputs": [
    {
     "name": "stdout",
     "output_type": "stream",
     "text": [
      "Enter the starting range 5\n",
      "Enter the last range 9\n",
      "5 6 7 8 9 "
     ]
    }
   ],
   "source": [
    "S = int(input(\"Enter the starting range \"))\n",
    "E = int(input(\"Enter the last range \"))\n",
    "for i in range(S,E+1):\n",
    "    if(i>=0):\n",
    "        print(i,end= ' ')"
   ]
  },
  {
   "cell_type": "markdown",
   "metadata": {},
   "source": [
    "# Python program to print all negative numbers in a range"
   ]
  },
  {
   "cell_type": "code",
   "execution_count": 38,
   "metadata": {},
   "outputs": [
    {
     "name": "stdout",
     "output_type": "stream",
     "text": [
      "Enter the starting range -7\n",
      "Enter the last range -1\n",
      "-7 -6 -5 -4 -3 -2 -1 "
     ]
    }
   ],
   "source": [
    "S = int(input(\"Enter the starting range \"))\n",
    "E = int(input(\"Enter the last range \"))\n",
    "for i in range(S,E+1):\n",
    "    if(i<0):\n",
    "        print(i,end= ' ')"
   ]
  },
  {
   "cell_type": "markdown",
   "metadata": {},
   "source": [
    "# Python program to count positive and negative numbers in a list"
   ]
  },
  {
   "cell_type": "code",
   "execution_count": 39,
   "metadata": {},
   "outputs": [
    {
     "name": "stdout",
     "output_type": "stream",
     "text": [
      "Total positive number in a list is 4 and total negative number in a list is 2 \n"
     ]
    }
   ],
   "source": [
    "cntpos = 0\n",
    "cntneg = 0\n",
    "list3 = [1,2,-5,6,7,-8]\n",
    "for i in list3:\n",
    "    if(i>0):\n",
    "        cntpos +=1\n",
    "    else:\n",
    "        cntneg +=1\n",
    "print(\"Total positive number in a list is {} and total negative number in a list is {} \".format(cntpos,cntneg))"
   ]
  },
  {
   "cell_type": "markdown",
   "metadata": {},
   "source": [
    "# Python | Remove empty tuples from a list"
   ]
  },
  {
   "cell_type": "code",
   "execution_count": 40,
   "metadata": {},
   "outputs": [
    {
     "name": "stdout",
     "output_type": "stream",
     "text": [
      "7\n",
      "('ram', '15', '8') ('laxman', 'sita') ('krishna', 'akbar', '45') ('', '') "
     ]
    }
   ],
   "source": [
    "list1= [(),('ram','15','8'),(),('laxman', 'sita'),('krishna', 'akbar', '45'), ('',''),()]\n",
    "#print(list1)\n",
    "\n",
    "print(len(list1))\n",
    "for i in list1:\n",
    "    if(len(i)!=0):\n",
    "        print(i,end=' ')"
   ]
  },
  {
   "cell_type": "markdown",
   "metadata": {},
   "source": [
    "# Python | Program to print duplicates from a list of integers"
   ]
  },
  {
   "cell_type": "code",
   "execution_count": 41,
   "metadata": {},
   "outputs": [
    {
     "name": "stdout",
     "output_type": "stream",
     "text": [
      "6\n"
     ]
    }
   ],
   "source": [
    "list5 = [1,2,3,4,5,6,6]\n",
    "x = len(list5)\n",
    "y = 0\n",
    "for i in range(0,x+1):\n",
    "    for j in range(i+1,x):\n",
    "        if(list5[i]==list5[j]):\n",
    "            print(list5[i])"
   ]
  },
  {
   "cell_type": "markdown",
   "metadata": {},
   "source": [
    "# Python program to find Cumulative sum of a list"
   ]
  },
  {
   "cell_type": "code",
   "execution_count": null,
   "metadata": {},
   "outputs": [],
   "source": [
    "#list1 = [10,20,30,40]\n",
    "#x = len(list1)\n",
    "#y=[sum(list1[:i:1]) for i in range(1,x+1)]  \n",
    "#print(y)\n"
   ]
  },
  {
   "cell_type": "markdown",
   "metadata": {},
   "source": [
    "# Python program to create a list of tuples from given list having number and its cube in each tuple"
   ]
  },
  {
   "cell_type": "code",
   "execution_count": 42,
   "metadata": {},
   "outputs": [
    {
     "name": "stdout",
     "output_type": "stream",
     "text": [
      "[(1, 1), (2, 8), (3, 27)]\n"
     ]
    }
   ],
   "source": [
    "list4 = [1,2,3]\n",
    "lennth = len(list4)\n",
    "list5 = []\n",
    "for i in range(lennth):\n",
    "    list4[i] = list4[i]**3\n",
    "    list5.append((i+1,list4[i]))\n",
    "print(list5)"
   ]
  },
  {
   "cell_type": "code",
   "execution_count": 43,
   "metadata": {},
   "outputs": [
    {
     "name": "stdout",
     "output_type": "stream",
     "text": [
      "Enter the number you want to add in a list 3\n",
      "Enter the element 1 1\n",
      "Enter the element 2 2\n",
      "Enter the element 3 3\n",
      "[1, 2, 3]\n",
      "[(1, 1), (2, 8), (3, 27)]\n"
     ]
    }
   ],
   "source": [
    "no = int(input(\"Enter the number you want to add in a list \"))\n",
    "list4 = []\n",
    "for i in range(no):\n",
    "    num = int(input(\"Enter the element {} \".format(i+1)))\n",
    "    list4.append(num)\n",
    "\n",
    "print(list4)\n",
    "list5 = []\n",
    "for j in range(no):\n",
    "    list4[j]= list4[j]**3\n",
    "    list5.append((j+1,list4[j]))\n",
    "print(list5)"
   ]
  },
  {
   "cell_type": "code",
   "execution_count": null,
   "metadata": {},
   "outputs": [],
   "source": []
  }
 ],
 "metadata": {
  "kernelspec": {
   "display_name": "Python 3",
   "language": "python",
   "name": "python3"
  },
  "language_info": {
   "codemirror_mode": {
    "name": "ipython",
    "version": 3
   },
   "file_extension": ".py",
   "mimetype": "text/x-python",
   "name": "python",
   "nbconvert_exporter": "python",
   "pygments_lexer": "ipython3",
   "version": "3.7.6"
  }
 },
 "nbformat": 4,
 "nbformat_minor": 4
}
