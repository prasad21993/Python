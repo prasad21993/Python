{
 "cells": [
  {
   "cell_type": "markdown",
   "metadata": {},
   "source": [
    "Write code to check a String is palindrome or not?\n"
   ]
  },
  {
   "cell_type": "code",
   "execution_count": 11,
   "metadata": {},
   "outputs": [
    {
     "name": "stdout",
     "output_type": "stream",
     "text": [
      "21\n"
     ]
    },
    {
     "data": {
      "text/plain": [
       "False"
      ]
     },
     "execution_count": 11,
     "metadata": {},
     "output_type": "execute_result"
    }
   ],
   "source": [
    "str1 = input()\n",
    "lenth = len(str1)\n",
    "def palindrom(str1):\n",
    "    for i in range(lenth):\n",
    "        if(str1[i]!=str1[lenth-i-1]):\n",
    "            return False\n",
    "        else:\n",
    "            return True\n",
    "        \n",
    "palindrom(str1)\n",
    "        "
   ]
  },
  {
   "cell_type": "markdown",
   "metadata": {},
   "source": [
    "Write a method which will remove any given character from a String\n"
   ]
  },
  {
   "cell_type": "code",
   "execution_count": 17,
   "metadata": {},
   "outputs": [
    {
     "name": "stdout",
     "output_type": "stream",
     "text": [
      "string prasad\n",
      "char a\n",
      "prsad\n"
     ]
    }
   ],
   "source": [
    "str1 = input(\"string \")\n",
    "str2 = input(\"char \")\n",
    "\n",
    "list1 = list(str1)\n",
    "for i in list1:\n",
    "    if(str2==i):\n",
    "        list1.remove(i)\n",
    "        break\n",
    "str3 = \"\".join(list1)\n",
    "print(str3)"
   ]
  },
  {
   "cell_type": "code",
   "execution_count": null,
   "metadata": {},
   "outputs": [],
   "source": []
  }
 ],
 "metadata": {
  "kernelspec": {
   "display_name": "Python 3",
   "language": "python",
   "name": "python3"
  },
  "language_info": {
   "codemirror_mode": {
    "name": "ipython",
    "version": 3
   },
   "file_extension": ".py",
   "mimetype": "text/x-python",
   "name": "python",
   "nbconvert_exporter": "python",
   "pygments_lexer": "ipython3",
   "version": "3.7.6"
  }
 },
 "nbformat": 4,
 "nbformat_minor": 4
}
