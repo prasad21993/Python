{
 "cells": [
  {
   "cell_type": "markdown",
   "metadata": {},
   "source": [
    "# Palindrome"
   ]
  },
  {
   "cell_type": "code",
   "execution_count": 1,
   "metadata": {},
   "outputs": [
    {
     "name": "stdout",
     "output_type": "stream",
     "text": [
      "Enter string Prasad\n",
      "its NOT a palindrome\n"
     ]
    }
   ],
   "source": [
    "original_str = input(\"Enter string \")\n",
    "duplicate_str = original_str[::-1]\n",
    "if(original_str==duplicate_str):\n",
    "    print(\"its a palindrome\")\n",
    "else:\n",
    "    print(\"its NOT a palindrome\")\n"
   ]
  },
  {
   "cell_type": "code",
   "execution_count": 2,
   "metadata": {},
   "outputs": [
    {
     "name": "stdout",
     "output_type": "stream",
     "text": [
      "Enter string \n",
      "maam\n",
      "its a palindrome\n",
      "\n",
      "Want to try with other input..?\n",
      "\n",
      "Yes or No..!no\n",
      "Enter string \n",
      "prasad\n",
      "its NOT a palindrome\n",
      "\n",
      "Want to try with other input..?\n",
      "\n",
      "Yes or No..!n\n"
     ]
    }
   ],
   "source": [
    "original_str = input(\"Enter string \\n\")\n",
    "duplicate_str = original_str[::-1]\n",
    "\n",
    "def init():\n",
    "    global original_str\n",
    "    global duplicate_str\n",
    "    original_str = input(\"Enter string \\n\")\n",
    "    duplicate_str = original_str[::-1]\n",
    "    \n",
    "def rept1():\n",
    "    print(\"Want to try with other input..?\\n\")\n",
    "    opt = input(\"Y or N..!\")\n",
    "    if(opt=='n' or opt=='N'):\n",
    "        return\n",
    "    else:\n",
    "        original_str =init()\n",
    "        check_palindrome()\n",
    "    \n",
    "def check_palindrome():\n",
    "    if(original_str==duplicate_str):\n",
    "        print(\"its a palindrome\\n\")\n",
    "    else:\n",
    "        print(\"its NOT a palindrome\\n\")\n",
    "    rept1()\n",
    "    \n",
    "        \n",
    "check_palindrome()\n"
   ]
  },
  {
   "cell_type": "code",
   "execution_count": 4,
   "metadata": {},
   "outputs": [
    {
     "name": "stdout",
     "output_type": "stream",
     "text": [
      "Enter string \n",
      "mam\n"
     ]
    },
    {
     "data": {
      "text/plain": [
       "True"
      ]
     },
     "execution_count": 4,
     "metadata": {},
     "output_type": "execute_result"
    }
   ],
   "source": [
    "ori_str = input(\"Enter string \\n\")\n",
    "lenth = len(ori_str)\n",
    "#print(lenth)\n",
    "\n",
    "def chk(ori_str):\n",
    "    for i in range(0,lenth+1):\n",
    "        if(ori_str[i]!=ori_str[lenth-i-1]):\n",
    "            return False\n",
    "        else:\n",
    "            return True\n",
    "chk(ori_str)        \n",
    "\n"
   ]
  },
  {
   "cell_type": "markdown",
   "metadata": {},
   "source": [
    "# Reverse words in a given String in Python\n"
   ]
  },
  {
   "cell_type": "code",
   "execution_count": 37,
   "metadata": {},
   "outputs": [
    {
     "name": "stdout",
     "output_type": "stream",
     "text": [
      "Enter the string PRASAD\n",
      "['P', 'R', 'A', 'S', 'A', 'D']\n",
      "DASARP\n"
     ]
    }
   ],
   "source": [
    "str1 = list(input(\"Enter the string \"))\n",
    "print(str1)\n",
    "str3 = ''.join(list(reversed(str1)))\n",
    "print(str3)"
   ]
  },
  {
   "cell_type": "markdown",
   "metadata": {},
   "source": [
    "# Ways to remove i’th character from string in Python\n",
    "    "
   ]
  },
  {
   "cell_type": "code",
   "execution_count": 38,
   "metadata": {},
   "outputs": [
    {
     "name": "stdout",
     "output_type": "stream",
     "text": [
      "Enter the string 12345\n",
      "Enter the i'th char 2\n"
     ]
    },
    {
     "data": {
      "text/plain": [
       "'1345'"
      ]
     },
     "execution_count": 38,
     "metadata": {},
     "output_type": "execute_result"
    }
   ],
   "source": [
    "str11 = input(\"Enter the string \")\n",
    "ith = input(\"Enter the i'th char \")\n",
    "str12 = str11.index(ith)\n",
    "str13 = ''.join(str11.split(str11[str12]))\n",
    "str13 "
   ]
  },
  {
   "cell_type": "code",
   "execution_count": 39,
   "metadata": {},
   "outputs": [
    {
     "name": "stdout",
     "output_type": "stream",
     "text": [
      "enter the string 12345\n",
      "i'th number 2\n"
     ]
    },
    {
     "data": {
      "text/plain": [
       "'2'"
      ]
     },
     "execution_count": 39,
     "metadata": {},
     "output_type": "execute_result"
    }
   ],
   "source": [
    "string = input(\"enter the string \")\n",
    "liststr = list(string)\n",
    "ith_num = int(input(\"i'th number \"))\n",
    "#liststr.pop(ith_num-1)\n",
    "result = \"\".join(liststr.pop(ith_num-1))\n",
    "result"
   ]
  },
  {
   "cell_type": "code",
   "execution_count": 40,
   "metadata": {},
   "outputs": [
    {
     "name": "stdout",
     "output_type": "stream",
     "text": [
      "enter the string 12345\n",
      "i'th number 3\n"
     ]
    },
    {
     "data": {
      "text/plain": [
       "'1245'"
      ]
     },
     "execution_count": 40,
     "metadata": {},
     "output_type": "execute_result"
    }
   ],
   "source": [
    "string = input(\"enter the string \")\n",
    "ith_num = int(input(\"i'th number \"))\n",
    "new_str = string[:ith_num-1]+string[ith_num:]\n",
    "new_str"
   ]
  },
  {
   "cell_type": "markdown",
   "metadata": {},
   "source": [
    "# Python | Check if a Substring is Present in a Given String"
   ]
  },
  {
   "cell_type": "code",
   "execution_count": 44,
   "metadata": {},
   "outputs": [
    {
     "name": "stdout",
     "output_type": "stream",
     "text": [
      "Enter the string 123445\n",
      "Enter the substring to check is present or not 6\n",
      "False\n"
     ]
    }
   ],
   "source": [
    "string1 = input(\"Enter the string \")\n",
    "serch = input(\"Enter the substring to check is present or not \")\n",
    "x = string1.find(serch)\n",
    "if(x<0):\n",
    "    print(False)\n",
    "else:\n",
    "    print(True)"
   ]
  },
  {
   "cell_type": "code",
   "execution_count": 43,
   "metadata": {},
   "outputs": [
    {
     "name": "stdout",
     "output_type": "stream",
     "text": [
      "Enter the string 12345\n",
      "Enter the substring to check is present or not 6\n",
      "True\n"
     ]
    }
   ],
   "source": [
    "string1 = input(\"Enter the string \")\n",
    "serch = input(\"Enter the substring to check is present or not \")\n",
    "x = serch in string1\n",
    "if(x<0):\n",
    "    print(False)\n",
    "else:\n",
    "    print(True)"
   ]
  },
  {
   "cell_type": "markdown",
   "metadata": {},
   "source": [
    "# Python program to print only even length words in a string"
   ]
  },
  {
   "cell_type": "code",
   "execution_count": 45,
   "metadata": {},
   "outputs": [
    {
     "name": "stdout",
     "output_type": "stream",
     "text": [
      "am\n",
      "Prasad\n"
     ]
    }
   ],
   "source": [
    "str1 = \"i am Prasad\"\n",
    "def chk(str1):\n",
    "    x=str1.split(\" \")\n",
    "    for i in x:\n",
    "        if(len(i)%2==0):\n",
    "            print(i)\n",
    "    \n",
    "chk(str1)"
   ]
  },
  {
   "cell_type": "code",
   "execution_count": 46,
   "metadata": {},
   "outputs": [
    {
     "name": "stdout",
     "output_type": "stream",
     "text": [
      "Enter the string prasad r gaikwad\n",
      "prasad\n",
      "wnat to repetn\n"
     ]
    }
   ],
   "source": [
    "str_even = input(\"Enter the string \")\n",
    "def chk():\n",
    "    chk = str_even.split(\" \")\n",
    "    for evn in chk:\n",
    "        if(len(evn)%2==0):\n",
    "            print(evn)\n",
    "    ret()\n",
    "        \n",
    "def ret():\n",
    "    global str_even\n",
    "    x=input(\"wnat to repet\")\n",
    "    while(x=='n'):\n",
    "        return\n",
    "    else:\n",
    "        str_even = input(\"Enter the string \")\n",
    "        chk()\n",
    "chk()"
   ]
  },
  {
   "cell_type": "markdown",
   "metadata": {},
   "source": [
    "# Python | Program to accept the strings which contains all vowels"
   ]
  },
  {
   "cell_type": "code",
   "execution_count": 47,
   "metadata": {},
   "outputs": [
    {
     "name": "stdout",
     "output_type": "stream",
     "text": [
      "Enter the string rasad\n",
      "Not contain\n",
      "Enter the string prasad\n",
      "Not contain\n",
      "Enter the string praeiou\n",
      "yes contain \n"
     ]
    }
   ],
   "source": [
    "#a e i o u\n",
    "def str1():\n",
    "    strip = input(\"Enter the string \")\n",
    "    return strip\n",
    "\n",
    "def chk(word):\n",
    "    if((('a'or'A') and ('e'or'E') and ('i'or'I') and ('o'or'O') and ('u'or'U')) in word):\n",
    "        print(\"yes contain \")\n",
    "    else:\n",
    "        print(\"Not contain\")\n",
    "        word = str1()\n",
    "        chk(word)\n",
    "\n",
    "word = str1()\n",
    "chk(word)\n"
   ]
  },
  {
   "cell_type": "markdown",
   "metadata": {},
   "source": [
    "# Python | Program to check if a string contains any special charac"
   ]
  },
  {
   "cell_type": "code",
   "execution_count": 50,
   "metadata": {},
   "outputs": [
    {
     "name": "stdout",
     "output_type": "stream",
     "text": [
      "Enter the string pt!\n",
      "True\n"
     ]
    }
   ],
   "source": [
    "chkstr = input(\"Enter the string \")\n",
    "list1 = ['!','@','#','$','%','^','&','*','(',')','-','=','\\'','/']\n",
    "\n",
    "def spec():\n",
    "    bool1 = False\n",
    "    for chk in chkstr:\n",
    "        if(chk in list1):\n",
    "            bool1 = True\n",
    "            break\n",
    "    print(bool1)\n",
    "            \n",
    "        \n",
    "spec()"
   ]
  },
  {
   "cell_type": "markdown",
   "metadata": {},
   "source": [
    "# Python program to count number of vowels using sets in given string# "
   ]
  },
  {
   "cell_type": "code",
   "execution_count": 51,
   "metadata": {},
   "outputs": [
    {
     "name": "stdout",
     "output_type": "stream",
     "text": [
      "Enter the string prasaaf\n",
      "3\n"
     ]
    }
   ],
   "source": [
    "str1 = input(\"Enter the string \")\n",
    "counter = 0\n",
    "\n",
    "vol = {'a','e','i','o','u','A','E','I','O','U'}\n",
    "\n",
    "for chr1 in str1:\n",
    "    if(chr1 in vol):\n",
    "        counter += 1\n",
    "print(counter)"
   ]
  },
  {
   "cell_type": "markdown",
   "metadata": {},
   "source": [
    "# Find words which are greater than given length k"
   ]
  },
  {
   "cell_type": "code",
   "execution_count": 53,
   "metadata": {},
   "outputs": [
    {
     "name": "stdout",
     "output_type": "stream",
     "text": [
      "Enter the string \n",
      "prasad to gaikwad \n",
      "Enter the number to check the length from string \n",
      "2\n",
      "prasad\n",
      "to\n",
      "\n"
     ]
    }
   ],
   "source": [
    "string_ = input(\"Enter the string \\n\")\n",
    "chkLen = int(input(\"Enter the number to check the length from string \\n\"))\n",
    "\n",
    "spString_ = string_.split(\" \")\n",
    "for i in spString_:\n",
    "    if(len(i)%chkLen == 0):\n",
    "        print(i)"
   ]
  },
  {
   "cell_type": "markdown",
   "metadata": {},
   "source": [
    "# Split the string into list of strings\n",
    "\n",
    "Input : Geeks for Geeks\n",
    "Output : ['Geeks', 'for', 'Geeks']\n",
    "\n",
    "\n",
    "Join the list of strings into a string based on delimiter ('-')\n",
    "\n",
    "Input :  ['Geeks', 'for', 'Geeks']\n",
    "Output : Geeks-for-Geeks"
   ]
  },
  {
   "cell_type": "code",
   "execution_count": 57,
   "metadata": {},
   "outputs": [
    {
     "name": "stdout",
     "output_type": "stream",
     "text": [
      "Enter the string [prasad,r,gaikwad]\n",
      "prasad-r-gaikwad\n"
     ]
    }
   ],
   "source": [
    "stringchk = input(\"Enter the string \")\n",
    "\n",
    "def split1():\n",
    "    strsplit = stringchk.split(\" \")\n",
    "    print(strsplit)\n",
    "\n",
    "def join1():\n",
    "    strjoin = '-'.join(stringchk.split(\",\"))\n",
    "    print(strjoin[1:-1])\n",
    "    \n",
    "if(stringchk[0]=='['):\n",
    "    join1()\n",
    "else:\n",
    "    split1()"
   ]
  }
 ],
 "metadata": {
  "kernelspec": {
   "display_name": "Python 3",
   "language": "python",
   "name": "python3"
  },
  "language_info": {
   "codemirror_mode": {
    "name": "ipython",
    "version": 3
   },
   "file_extension": ".py",
   "mimetype": "text/x-python",
   "name": "python",
   "nbconvert_exporter": "python",
   "pygments_lexer": "ipython3",
   "version": "3.7.6"
  }
 },
 "nbformat": 4,
 "nbformat_minor": 4
}
