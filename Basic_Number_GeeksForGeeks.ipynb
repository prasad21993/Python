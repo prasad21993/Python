{
 "cells": [
  {
   "cell_type": "markdown",
   "metadata": {},
   "source": [
    "# Python program to add two numbers"
   ]
  },
  {
   "cell_type": "code",
   "execution_count": 1,
   "metadata": {},
   "outputs": [
    {
     "name": "stdout",
     "output_type": "stream",
     "text": [
      "Enter number1 2\n",
      "Enter number2 2\n"
     ]
    },
    {
     "data": {
      "text/plain": [
       "4"
      ]
     },
     "execution_count": 1,
     "metadata": {},
     "output_type": "execute_result"
    }
   ],
   "source": [
    "num1 = int(input(\"Enter number1 \"))\n",
    "num2 = int(input(\"Enter number2 \"))\n",
    "def add(x,y):\n",
    "    return x+y\n",
    "add(num1,num2)"
   ]
  },
  {
   "cell_type": "markdown",
   "metadata": {},
   "source": [
    "# Python Program for factorial of a number"
   ]
  },
  {
   "cell_type": "code",
   "execution_count": 2,
   "metadata": {},
   "outputs": [
    {
     "name": "stdout",
     "output_type": "stream",
     "text": [
      "Enter the number 3\n"
     ]
    },
    {
     "data": {
      "text/plain": [
       "6"
      ]
     },
     "execution_count": 2,
     "metadata": {},
     "output_type": "execute_result"
    }
   ],
   "source": [
    "num = int(input(\"Enter the number \"))\n",
    "def facto(num):\n",
    "    if(num<0):\n",
    "        return 0\n",
    "    elif(num==0 or num==1):\n",
    "        return 1\n",
    "    else:\n",
    "        fact = 1\n",
    "        while(num > 1):\n",
    "            fact *= num \n",
    "            num -= 1\n",
    "        return fact\n",
    "facto(num)"
   ]
  },
  {
   "cell_type": "markdown",
   "metadata": {},
   "source": [
    "# Simple interst"
   ]
  },
  {
   "cell_type": "code",
   "execution_count": 3,
   "metadata": {},
   "outputs": [
    {
     "name": "stdout",
     "output_type": "stream",
     "text": [
      "Enter the Principle amt, Rate of interest and time \n",
      "1000\n",
      "7\n",
      "2\n",
      "The Simple Interest is  140.0\n"
     ]
    }
   ],
   "source": [
    "print(\"Enter the Principle amt, Rate of interest and time \")\n",
    "P = int(input())\n",
    "R = int(input())\n",
    "T = int(input())\n",
    "result = ((P*T*R)/100)\n",
    "print(\"The Simple Interest is \",result)\n"
   ]
  },
  {
   "cell_type": "markdown",
   "metadata": {},
   "source": [
    "# Compound interest"
   ]
  },
  {
   "cell_type": "code",
   "execution_count": 4,
   "metadata": {},
   "outputs": [
    {
     "name": "stdout",
     "output_type": "stream",
     "text": [
      "Enter the Principle amt, Rate of interest and time \n",
      "100\n",
      "7\n",
      "2\n",
      "14.490000000000009\n"
     ]
    }
   ],
   "source": [
    "print(\"Enter the Principle amt, Rate of interest and time \")\n",
    "P = float(input())\n",
    "R = float(input())\n",
    "T = float(input())\n",
    "Amount = P*(pow((1+R/100),T))\n",
    "CI =Amount - P\n",
    "print(CI)"
   ]
  },
  {
   "cell_type": "markdown",
   "metadata": {},
   "source": [
    "# Armstrong number"
   ]
  },
  {
   "cell_type": "code",
   "execution_count": 5,
   "metadata": {},
   "outputs": [
    {
     "name": "stdout",
     "output_type": "stream",
     "text": [
      "Enter the number 123\n",
      "1\n",
      "8\n",
      "27\n"
     ]
    }
   ],
   "source": [
    "num1 = input(\"Enter the number \")\n",
    "x = len(num1)\n",
    "f = 0\n",
    "for i in range(0,x):\n",
    "    print(pow((int(num1[i])),x))"
   ]
  },
  {
   "cell_type": "code",
   "execution_count": 6,
   "metadata": {},
   "outputs": [
    {
     "name": "stdout",
     "output_type": "stream",
     "text": [
      "Enter the number 123\n",
      "not\n"
     ]
    }
   ],
   "source": [
    "num1 = input(\"Enter the number \")\n",
    "x = len(num1)\n",
    "f = 0\n",
    "for i in range(0,x):\n",
    "    f += pow((int(num1[i])),x)\n",
    "if(int(num1)==f):\n",
    "    print(\"Armstrong\")\n",
    "else:\n",
    "    print(\"not\")\n",
    "    "
   ]
  },
  {
   "cell_type": "markdown",
   "metadata": {},
   "source": [
    "# Python Program for Program to find area of a circle"
   ]
  },
  {
   "cell_type": "code",
   "execution_count": 7,
   "metadata": {},
   "outputs": [
    {
     "name": "stdout",
     "output_type": "stream",
     "text": [
      "Enter radius of circle 3\n",
      "28.26\n"
     ]
    }
   ],
   "source": [
    "#area = pi * r^2\n",
    "r = int(input(\"Enter radius of circle \"))\n",
    "PI = 3.14\n",
    "area = PI * r**2\n",
    "print(area)\n"
   ]
  },
  {
   "cell_type": "markdown",
   "metadata": {},
   "source": [
    "# Python program to check whether a number is Prime or not"
   ]
  },
  {
   "cell_type": "code",
   "execution_count": 12,
   "metadata": {},
   "outputs": [
    {
     "name": "stdout",
     "output_type": "stream",
     "text": [
      "enter the number 6\n",
      "Not prime\n"
     ]
    }
   ],
   "source": [
    "num = int(input(\"enter the number \"))\n",
    "if(num>1):\n",
    "    for i in range(2,num):\n",
    "        if(num%i==0):\n",
    "            print(\"Not prime\")\n",
    "            break\n",
    "    else:\n",
    "        print(\"Prime\")\n",
    "else:\n",
    "    print(\"not prime\")\n",
    "        "
   ]
  },
  {
   "cell_type": "code",
   "execution_count": 13,
   "metadata": {},
   "outputs": [
    {
     "data": {
      "text/plain": [
       "[1, 2, 3, 4, 5]"
      ]
     },
     "execution_count": 13,
     "metadata": {},
     "output_type": "execute_result"
    }
   ],
   "source": [
    "list1 = [1,2,3,4,5]\n",
    "list2 = list1# + 2\n",
    "list2"
   ]
  },
  {
   "cell_type": "markdown",
   "metadata": {},
   "source": [
    "# Python Program for Sum of squares of first n natural numbers"
   ]
  },
  {
   "cell_type": "code",
   "execution_count": 14,
   "metadata": {},
   "outputs": [
    {
     "name": "stdout",
     "output_type": "stream",
     "text": [
      "Enter the number 2\n",
      "5\n"
     ]
    }
   ],
   "source": [
    "num = int(input(\"Enter the number \"))\n",
    "x = 0\n",
    "while(num>0):\n",
    "    x += num**2\n",
    "    num -= 1\n",
    "print(x)"
   ]
  }
 ],
 "metadata": {
  "kernelspec": {
   "display_name": "Python 3",
   "language": "python",
   "name": "python3"
  },
  "language_info": {
   "codemirror_mode": {
    "name": "ipython",
    "version": 3
   },
   "file_extension": ".py",
   "mimetype": "text/x-python",
   "name": "python",
   "nbconvert_exporter": "python",
   "pygments_lexer": "ipython3",
   "version": "3.7.6"
  }
 },
 "nbformat": 4,
 "nbformat_minor": 4
}
