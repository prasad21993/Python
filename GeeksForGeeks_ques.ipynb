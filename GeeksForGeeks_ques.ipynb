{
 "cells": [
  {
   "cell_type": "code",
   "execution_count": 3,
   "metadata": {},
   "outputs": [
    {
     "name": "stdout",
     "output_type": "stream",
     "text": [
      "1st num 1\n",
      "2nd num 1\n",
      "3rd num 1\n",
      "to sum is not should be 2\n",
      "[[0, 0, 0], [0, 0, 1], [0, 1, 0], [1, 0, 0], [1, 1, 1]]\n"
     ]
    }
   ],
   "source": [
    "a= int(input(\"1st num \"))\n",
    "b= int(input(\"2nd num \"))\n",
    "c= int(input(\"3rd num \"))\n",
    "z= []\n",
    "q =int(input(\"to sum is not should be \"))\n",
    "for i in range(0,a+1):\n",
    "    for j in range(0,b+1):\n",
    "        for k in range(0,c+1):\n",
    "            if(i+j+k==q):\n",
    "                continue\n",
    "            z.append(([i,j,k]))\n",
    "print(z)\n",
    "            "
   ]
  },
  {
   "cell_type": "code",
   "execution_count": 4,
   "metadata": {},
   "outputs": [
    {
     "name": "stdout",
     "output_type": "stream",
     "text": [
      "['a', 'c']\n"
     ]
    }
   ],
   "source": [
    "recod = [['a',1],['c',1],['d',2]]\n",
    "cnt = len(recod)\n",
    "x = []\n",
    "for i in range(0,cnt):\n",
    "    for j in range(1,cnt):\n",
    "        if(recod[i][1]==recod[j][1]):\n",
    "            x.append((recod[i][0]))\n",
    "        else:\n",
    "            break\n",
    "print(x)\n"
   ]
  },
  {
   "cell_type": "code",
   "execution_count": 5,
   "metadata": {},
   "outputs": [
    {
     "data": {
      "text/plain": [
       "2"
      ]
     },
     "execution_count": 5,
     "metadata": {},
     "output_type": "execute_result"
    }
   ],
   "source": [
    "recod[-1][1]"
   ]
  },
  {
   "cell_type": "code",
   "execution_count": 6,
   "metadata": {},
   "outputs": [
    {
     "name": "stdout",
     "output_type": "stream",
     "text": [
      "a\n",
      "c\n"
     ]
    }
   ],
   "source": [
    "recod = [['a',1],['c',1],['d',2]]\n",
    "cnt = len(recod)\n",
    "\n",
    "for i in range(0,cnt):\n",
    "    for j in range(1,cnt):\n",
    "        if(recod[i][1]==recod[j][1]):\n",
    "            print(recod[i][0])\n",
    "        else:\n",
    "            break\n",
    "#print(x)"
   ]
  },
  {
   "cell_type": "code",
   "execution_count": 7,
   "metadata": {},
   "outputs": [
    {
     "data": {
      "text/plain": [
       "'pRONTVe'"
      ]
     },
     "execution_count": 7,
     "metadata": {},
     "output_type": "execute_result"
    }
   ],
   "source": [
    "a = \"ProntvE\"\n",
    "b = a.swapcase()\n",
    "b\n"
   ]
  },
  {
   "cell_type": "code",
   "execution_count": 8,
   "metadata": {},
   "outputs": [
    {
     "data": {
      "text/plain": [
       "'hello-my-world'"
      ]
     },
     "execution_count": 8,
     "metadata": {},
     "output_type": "execute_result"
    }
   ],
   "source": [
    "def split_join(s):\n",
    "    a = s.split(\" \")\n",
    "    b = \"-\".join(a)\n",
    "    return b\n",
    "\n",
    "split_join(\"hello my world\")"
   ]
  },
  {
   "cell_type": "code",
   "execution_count": 15,
   "metadata": {},
   "outputs": [
    {
     "name": "stdout",
     "output_type": "stream",
     "text": [
      "Enter ther string prasad\n",
      "Enter the string to be search a\n",
      "0\n"
     ]
    }
   ],
   "source": [
    "#substring\n",
    "counter = 0\n",
    "string1 = input(\"Enter ther string \")\n",
    "string2 = input(\"Enter the string to be search \")\n",
    "for i in range(len(string1)):\n",
    "    for j in range(1,len(string2)):\n",
    "        if(i==j):\n",
    "            counter +=1\n",
    "print(counter)\n"
   ]
  },
  {
   "cell_type": "code",
   "execution_count": 17,
   "metadata": {},
   "outputs": [
    {
     "name": "stdout",
     "output_type": "stream",
     "text": [
      "Enter ther string prasad\n",
      "Enter the string to be search a\n",
      "1\n"
     ]
    }
   ],
   "source": [
    "counter = 0\n",
    "string1 = input(\"Enter ther string \")\n",
    "string2 = input(\"Enter the string to be search \")\n",
    "if(string2 in string1):    \n",
    "    counter +=1\n",
    "print(counter)\n"
   ]
  },
  {
   "cell_type": "code",
   "execution_count": 18,
   "metadata": {},
   "outputs": [
    {
     "name": "stdout",
     "output_type": "stream",
     "text": [
      "prasad\n",
      "True\n",
      "True\n",
      "False\n",
      "True\n",
      "False\n"
     ]
    }
   ],
   "source": [
    "s = input()\n",
    "   \n",
    "print(any(cs.isalnum() for cs in s))\n",
    "print(any(cs.isalpha() for cs in s))\n",
    "print(any(cs.isdigit() for cs in s))\n",
    "print(any(cs.islower() for cs in s))\n",
    "print(any(cs.isupper() for cs in s))\n"
   ]
  },
  {
   "cell_type": "code",
   "execution_count": 20,
   "metadata": {},
   "outputs": [
    {
     "name": "stdout",
     "output_type": "stream",
     "text": [
      "prasad\n",
      "2\n",
      "\n",
      "['p', 'r', 'a', 's', 'a', 'd']\n",
      "\n",
      "pr\n",
      "\n",
      "\n",
      "['a', 's', 'a', 'd']\n",
      "\n",
      "as\n",
      "\n",
      "\n",
      "['a', 'd']\n",
      "\n",
      "ad\n",
      "\n"
     ]
    }
   ],
   "source": [
    "string = input(\"\")\n",
    "width = int(input(\"\"))\n",
    "lenth = len(string)\n",
    "x = list(string)\n",
    "try:\n",
    "    while(lenth>0):\n",
    "        join1 = \"\".join(x)\n",
    "        print(\"\")\n",
    "        print(x)\n",
    "        print(\"\")\n",
    "        print(join1[:width])    \n",
    "        for j in range(width):\n",
    "            x.remove(x[0])\n",
    "        lenth -= width \n",
    "        print(\"\")\n",
    "        #print(x)\n",
    "        #print(\"\")\n",
    "except:\n",
    "    print()\n",
    "            "
   ]
  },
  {
   "cell_type": "code",
   "execution_count": 22,
   "metadata": {},
   "outputs": [
    {
     "name": "stdout",
     "output_type": "stream",
     "text": [
      "poi\n",
      "1\n",
      "p\n",
      "o\n",
      "i\n",
      "None\n"
     ]
    }
   ],
   "source": [
    "def wrap_(str1,wid):\n",
    "    lenth = len(str1)\n",
    "    x = list(str1)\n",
    "    try:\n",
    "        while(lenth>0):\n",
    "            join1 = \"\".join(x)\n",
    "            print(join1[:wid])    \n",
    "            for j in range(wid):\n",
    "                x.remove(x[0])\n",
    "            lenth -= wid \n",
    "    except:\n",
    "        print()\n",
    "\n",
    "    \n",
    "\n",
    "string = input(\"\")\n",
    "width = int(input(\"\"))\n",
    "resutl = wrap_(string,width)\n",
    "print(resutl)\n",
    "            "
   ]
  },
  {
   "cell_type": "code",
   "execution_count": 25,
   "metadata": {},
   "outputs": [
    {
     "name": "stdout",
     "output_type": "stream",
     "text": [
      "Enter the num 3\n",
      "- - - - - - - - - \n",
      "- - - - WELCOME- - - - \n",
      "- - - - - - - - - \n"
     ]
    }
   ],
   "source": [
    "num = int(input(\"Enter the num \"))\n",
    "msg =\"WELCOME\"\n",
    "x = 0\n",
    "if(num%2==1):\n",
    "    for i in range(0,num//2):\n",
    "        for j in range(0,num*3):\n",
    "            print('-',end=\" \")\n",
    "        print()\n",
    "    print(\"- \"*(num*3//2)+msg+\"- \"*(num*3//2))\n",
    "    for i in range(0,num//2):\n",
    "        for j in range(0,num*3):\n",
    "            print('-',end=\" \")\n",
    "        print()\n",
    "else:\n",
    "    print(\"Only odd num\")\n",
    "            "
   ]
  },
  {
   "cell_type": "code",
   "execution_count": 26,
   "metadata": {},
   "outputs": [
    {
     "name": "stdout",
     "output_type": "stream",
     "text": [
      "sfseg\n",
      "Sfseg\n"
     ]
    }
   ],
   "source": [
    "s=input(\"\")\n",
    "x = s.split(\" \")\n",
    "for i in range(len(x)):\n",
    "    x[i]=x[i].capitalize()    \n",
    "print(' '.join(x))\n"
   ]
  },
  {
   "cell_type": "code",
   "execution_count": 29,
   "metadata": {},
   "outputs": [
    {
     "name": "stdout",
     "output_type": "stream",
     "text": [
      "2\n",
      "0\n",
      "1\n"
     ]
    }
   ],
   "source": [
    "num = int(input())\n",
    "for i in range(num):\n",
    "    print(i)"
   ]
  },
  {
   "cell_type": "markdown",
   "metadata": {},
   "source": [
    "Akash and Vishal are quite fond of travelling. They mostly travel by railways. They were travelling in a train one day and they got interested in the seating arrangement of their compartment. The compartment looked something like\n",
    "\n",
    "\n",
    "So they got interested to know the seat number facing them and the seat type facing them. The seats are denoted as follows :\n",
    "\n",
    "Window Seat : WS\n",
    "Middle Seat : MS\n",
    "Aisle Seat : AS\n",
    "\n",
    "You will be given a seat number, find out the seat number facing you and the seat type, i.e. WS, MS or AS.\n",
    "\n",
    "INPUT\n",
    "First line of input will consist of a single integer T denoting number of test-cases. Each test-case consists of a single integer N denoting the seat-number.\n",
    "\n",
    "OUTPUT\n",
    "For each test case, print the facing seat-number and the seat-type, separated by a single space in a new line"
   ]
  },
  {
   "cell_type": "code",
   "execution_count": 30,
   "metadata": {},
   "outputs": [
    {
     "name": "stdout",
     "output_type": "stream",
     "text": [
      "Enter the seat number 25\n",
      "Window Seat \n"
     ]
    }
   ],
   "source": [
    "#Railway seat numbers\n",
    "def check_seatnum(num):\n",
    "    if(108>=number and number>0):\n",
    "        #print(\"ok\")\n",
    "        check_seat_side(num)\n",
    "    else:\n",
    "        print(\"Seat number is wrong\")\n",
    "        \n",
    "        \n",
    "def check_seat_side(num):\n",
    "    if((num%6==0) or (num%6==1)):\n",
    "        print(\"Window Seat \")\n",
    "        if((num%12==0) or (num%12==-1)):\n",
    "            print(num-11)\n",
    "    elif((num%6==2) or (num%6==5)):\n",
    "        print(\"Middle seat \")\n",
    "    else:\n",
    "        print(\"Aisle Seat \")\n",
    "        \n",
    "def check_facing_seat(num):\n",
    "    if(num%2==0):\n",
    "        rest=check_seat_side(num)\n",
    "        #print(rest)\n",
    "        #if(rest=='Window Seat '):\n",
    "         #   print(num+1)\n",
    "            \n",
    "    \n",
    "number = int(input(\"Enter the seat number \"))\n",
    "check_seatnum(number)\n",
    "check_facing_seat(number)"
   ]
  },
  {
   "cell_type": "markdown",
   "metadata": {},
   "source": [
    "You are required to enter a word that consists of  and  that denote the number of Zs and Os respectively. The input word is considered similar to word zoo if .\n",
    "\n",
    "Determine if the entered word is similar to word zoo.\n",
    "\n",
    "For example, words such as zzoooo and zzzoooooo are similar to word zoo but not the words such as zzooo and zzzooooo.\n",
    "\n",
    "Input format\n",
    "\n",
    "First line: A word that starts with several Zs and continues by several Os.\n",
    "Note: The maximum length of this word must be ."
   ]
  },
  {
   "cell_type": "code",
   "execution_count": 33,
   "metadata": {},
   "outputs": [
    {
     "name": "stdout",
     "output_type": "stream",
     "text": [
      "Enter ther string zoo zzoooo\n",
      "Ok\n"
     ]
    }
   ],
   "source": [
    "cntz = 0\n",
    "cnto = 0\n",
    "def count_z():\n",
    "    global cntz\n",
    "    for i in lis:\n",
    "        if(i=='z'):\n",
    "            cntz +=1\n",
    "    #print(cntz)\n",
    "    count_o(cntz)\n",
    "\n",
    "def count_o(cntz):\n",
    "    global cnto\n",
    "    for j in lis:\n",
    "        if(j=='o'):\n",
    "            cnto +=1\n",
    "    #print(cnto)\n",
    "\n",
    "def chk():   \n",
    "    #print(\"{},{}\".format(cntz,cnto))\n",
    "    if(cnto==cntz*2):\n",
    "        print(\"Ok\")\n",
    "    else:\n",
    "        print(\"somthing wrong\")\n",
    "\n",
    "def chk_char():\n",
    "    if(lis.index('o',1)):   #list_name.index(element, start, end)\n",
    "        count_z()\n",
    "        chk()\n",
    "    else:\n",
    "        print(\"Aftr 'o' 'z' will not consider\")\n",
    "        return\n",
    "    \n",
    "    \n",
    "string = input(\"Enter ther string zoo \")\n",
    "lis = list(string)\n",
    "#print(len(lis))\n",
    "chk_char()\n",
    "#count_z()\n",
    "#chk()\n"
   ]
  }
 ],
 "metadata": {
  "kernelspec": {
   "display_name": "Python 3",
   "language": "python",
   "name": "python3"
  },
  "language_info": {
   "codemirror_mode": {
    "name": "ipython",
    "version": 3
   },
   "file_extension": ".py",
   "mimetype": "text/x-python",
   "name": "python",
   "nbconvert_exporter": "python",
   "pygments_lexer": "ipython3",
   "version": "3.7.6"
  }
 },
 "nbformat": 4,
 "nbformat_minor": 4
}
